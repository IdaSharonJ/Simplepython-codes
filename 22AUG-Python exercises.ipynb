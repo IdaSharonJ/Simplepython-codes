{
  "nbformat": 4,
  "nbformat_minor": 0,
  "metadata": {
    "colab": {
      "name": "Untitled2.ipynb",
      "provenance": [],
      "authorship_tag": "ABX9TyPGSDY5kV4B2EoTS5cmy+ih",
      "include_colab_link": true
    },
    "kernelspec": {
      "name": "python3",
      "display_name": "Python 3"
    },
    "language_info": {
      "name": "python"
    }
  },
  "cells": [
    {
      "cell_type": "markdown",
      "metadata": {
        "id": "view-in-github",
        "colab_type": "text"
      },
      "source": [
        "<a href=\"https://colab.research.google.com/github/IdaSharonJ/Simplepython-codes/blob/main/22AUG-Python%20exercises.ipynb\" target=\"_parent\"><img src=\"https://colab.research.google.com/assets/colab-badge.svg\" alt=\"Open In Colab\"/></a>"
      ]
    },
    {
      "cell_type": "code",
      "source": [
        "%%writefile exercise1.py\n",
        "N = int(input(\"enter a number: \"))\n",
        "#check for every number from 1 to N\n",
        "for i in range(1,N+1):\n",
        "  #check if current number is prime\n",
        "  if(isPrime(i)):\n",
        "    print(i,end=\" \")"
      ],
      "metadata": {
        "colab": {
          "base_uri": "https://localhost:8080/"
        },
        "id": "9AWOs_P-GpOA",
        "outputId": "8f95b9d5-f44a-4e78-87e3-00432aa13bd4"
      },
      "execution_count": 9,
      "outputs": [
        {
          "output_type": "stream",
          "name": "stdout",
          "text": [
            "Writing exercise1.py\n"
          ]
        }
      ]
    },
    {
      "cell_type": "code",
      "source": [
        "N = int(input(\"enter a number: \"))\n",
        "#check for every number from 1 to N\n",
        "for i in range(1,N+1):\n",
        "  #check if current number is prime\n",
        "  if(isPrime(i)):\n",
        "    print(i,end=\" \")"
      ],
      "metadata": {
        "colab": {
          "base_uri": "https://localhost:8080/"
        },
        "id": "L1XLhk5nJFRu",
        "outputId": "e77f539e-0b2d-4264-e27c-9422e02d5e5c"
      },
      "execution_count": 10,
      "outputs": [
        {
          "output_type": "stream",
          "name": "stdout",
          "text": [
            "enter a number: 55\n",
            "2 3 5 7 11 13 17 19 23 29 31 37 41 43 47 53 "
          ]
        }
      ]
    },
    {
      "cell_type": "code",
      "source": [
        "%%writefile exercise2.py\n",
        "num1 = int(input('Enter the lower limit:'))\n",
        "num2 = int(input('Enter the upper limit:'))\n",
        "\n",
        "for i in range(num1+1,num2):\n",
        "  if i%2 != 0:\n",
        "    print(i)"
      ],
      "metadata": {
        "colab": {
          "base_uri": "https://localhost:8080/"
        },
        "id": "77QIXcRIJbEL",
        "outputId": "11930f2b-96eb-4033-87a4-8ab35d17641e"
      },
      "execution_count": 11,
      "outputs": [
        {
          "output_type": "stream",
          "name": "stdout",
          "text": [
            "Writing exercise2.py\n"
          ]
        }
      ]
    },
    {
      "cell_type": "code",
      "source": [
        "num1 = int(input('Enter the lower limit:'))\n",
        "num2 = int(input('Enter the upper limit:'))\n",
        "\n",
        "for i in range(num1+1,num2):\n",
        "  if i%2 != 0:\n",
        "    print(i)"
      ],
      "metadata": {
        "colab": {
          "base_uri": "https://localhost:8080/"
        },
        "id": "ui9h5V17JfNS",
        "outputId": "97e6d7da-fb44-4679-ec76-e79a6a26f225"
      },
      "execution_count": 13,
      "outputs": [
        {
          "output_type": "stream",
          "name": "stdout",
          "text": [
            "Enter the lower limit:5\n",
            "Enter the upper limit:25\n",
            "7\n",
            "9\n",
            "11\n",
            "13\n",
            "15\n",
            "17\n",
            "19\n",
            "21\n",
            "23\n"
          ]
        }
      ]
    }
  ]
}