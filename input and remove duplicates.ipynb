{
  "nbformat": 4,
  "nbformat_minor": 0,
  "metadata": {
    "colab": {
      "name": "Untitled2.ipynb",
      "provenance": [],
      "collapsed_sections": [],
      "authorship_tag": "ABX9TyMWux/wanfpoVBIlAflcBoI",
      "include_colab_link": true
    },
    "kernelspec": {
      "name": "python3",
      "display_name": "Python 3"
    },
    "language_info": {
      "name": "python"
    }
  },
  "cells": [
    {
      "cell_type": "markdown",
      "metadata": {
        "id": "view-in-github",
        "colab_type": "text"
      },
      "source": [
        "<a href=\"https://colab.research.google.com/github/IdaSharonJ/Simplepython-codes/blob/main/input%20and%20remove%20duplicates.ipynb\" target=\"_parent\"><img src=\"https://colab.research.google.com/assets/colab-badge.svg\" alt=\"Open In Colab\"/></a>"
      ]
    },
    {
      "cell_type": "code",
      "execution_count": 9,
      "metadata": {
        "colab": {
          "base_uri": "https://localhost:8080/"
        },
        "id": "GPeKnt-ajZR8",
        "outputId": "b4fedc2d-932a-4122-fab2-eeb4eb1b811e"
      },
      "outputs": [
        {
          "output_type": "stream",
          "name": "stdout",
          "text": [
            "Enter elements of a list separated by space 1 2 3 4 3 5 3 6 3 7 4 8 5 9 2 \n",
            "\n",
            "\n",
            "[1, 2, 3, 4, 5, 6, 7, 8, 9]\n"
          ]
        }
      ],
      "source": [
        "#Input a list of numbers from the user, and remove all the duplicate values\n",
        "\n",
        "input_string = input('Enter elements of a list separated by space ')\n",
        "print(\"\\n\")\n",
        "user_list = input_string.split()\n",
        "# convert each item to int type\n",
        "for i in range(len(user_list)):\n",
        "    # convert each item to int type\n",
        "    user_list[i] = int(user_list[i])\n",
        "#remove duplicates from the list\n",
        "user_list = list(dict.fromkeys(user_list))\n",
        "print(user_list)\n"
      ]
    },
    {
      "cell_type": "code",
      "source": [
        "input_string = input('Enter elements of a list separated by space ')\n",
        "print(\"\\n\")\n",
        "user_list = input_string.split()\n",
        "# convert each item to int type\n",
        "for i in range(len(user_list)):\n",
        "    # convert each item to int type\n",
        "    user_list[i] = int(user_list[i])\n",
        "\n",
        "newlist = set(user_list)\n",
        "newlist"
      ],
      "metadata": {
        "colab": {
          "base_uri": "https://localhost:8080/"
        },
        "id": "1bsaCwMPuR0h",
        "outputId": "608ca624-d48e-4077-9f51-fea922260aee"
      },
      "execution_count": 13,
      "outputs": [
        {
          "output_type": "stream",
          "name": "stdout",
          "text": [
            "Enter elements of a list separated by space 1 2 3 2 4 2 3 5 4 6 5 7 1  8  9 6 8 \n",
            "\n",
            "\n"
          ]
        },
        {
          "output_type": "execute_result",
          "data": {
            "text/plain": [
              "{1, 2, 3, 4, 5, 6, 7, 8, 9}"
            ]
          },
          "metadata": {},
          "execution_count": 13
        }
      ]
    }
  ]
}