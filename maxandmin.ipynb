{
  "nbformat": 4,
  "nbformat_minor": 0,
  "metadata": {
    "colab": {
      "name": "maxandmin.ipynb",
      "provenance": [],
      "authorship_tag": "ABX9TyOQwgsyme6vkIeiU0rDjm1+",
      "include_colab_link": true
    },
    "kernelspec": {
      "name": "python3",
      "display_name": "Python 3"
    },
    "language_info": {
      "name": "python"
    }
  },
  "cells": [
    {
      "cell_type": "markdown",
      "metadata": {
        "id": "view-in-github",
        "colab_type": "text"
      },
      "source": [
        "<a href=\"https://colab.research.google.com/github/IdaSharonJ/Simplepython-codes/blob/main/maxandmin.ipynb\" target=\"_parent\"><img src=\"https://colab.research.google.com/assets/colab-badge.svg\" alt=\"Open In Colab\"/></a>"
      ]
    },
    {
      "cell_type": "code",
      "execution_count": 10,
      "metadata": {
        "colab": {
          "base_uri": "https://localhost:8080/"
        },
        "id": "mnFTqz7Lfjvf",
        "outputId": "80659f1b-89f0-4e60-b12c-2779fc124367"
      },
      "outputs": [
        {
          "output_type": "stream",
          "name": "stdout",
          "text": [
            "Writing maximum.py\n"
          ]
        }
      ],
      "source": [
        "%%writefile maximum.py\n",
        "# To find maximum \n",
        "a = input(\"Enter a: \")\n",
        "b = input(\"Enter b: \")\n",
        "c = max(a , b)\n",
        "print (c)\n"
      ]
    },
    {
      "cell_type": "code",
      "source": [
        "%%writefile minimum.py\n",
        "# To find minimum \n",
        "a = input(\"Enter a: \")\n",
        "b = input(\"Enter b: \")\n",
        "c = min(a , b)\n",
        "print (c)"
      ],
      "metadata": {
        "colab": {
          "base_uri": "https://localhost:8080/"
        },
        "id": "tJ_L0NSngljE",
        "outputId": "9b32214e-dca1-4ade-e635-937e190681ec"
      },
      "execution_count": 9,
      "outputs": [
        {
          "output_type": "stream",
          "name": "stdout",
          "text": [
            "Writing minimum.py\n"
          ]
        }
      ]
    }
  ]
}