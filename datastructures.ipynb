{
  "nbformat": 4,
  "nbformat_minor": 0,
  "metadata": {
    "colab": {
      "name": "datastructuresexercises.ipynb",
      "provenance": [],
      "toc_visible": true,
      "authorship_tag": "ABX9TyNjQz+kz+dqurzUhSGLapFU",
      "include_colab_link": true
    },
    "kernelspec": {
      "name": "python3",
      "display_name": "Python 3"
    },
    "language_info": {
      "name": "python"
    }
  },
  "cells": [
    {
      "cell_type": "markdown",
      "metadata": {
        "id": "view-in-github",
        "colab_type": "text"
      },
      "source": [
        "<a href=\"https://colab.research.google.com/github/IdaSharonJ/Simplepython-codes/blob/main/datastructures.ipynb\" target=\"_parent\"><img src=\"https://colab.research.google.com/assets/colab-badge.svg\" alt=\"Open In Colab\"/></a>"
      ]
    },
    {
      "cell_type": "markdown",
      "source": [
        "# **LISTS**\n",
        "\n",
        "Lists are used to store multiple items in a single variable. They are created using square brackets."
      ],
      "metadata": {
        "id": "CMIyfN5Jnqpo"
      }
    },
    {
      "cell_type": "code",
      "source": [
        "# example\n",
        "l = [34,\"Hakuna matata\",65,\"apple\",24,75,\"hi\"]\n",
        "l"
      ],
      "metadata": {
        "colab": {
          "base_uri": "https://localhost:8080/"
        },
        "id": "3205xh4koAxa",
        "outputId": "d2b62ea9-3b8c-444d-d44c-40c8437fa571"
      },
      "execution_count": null,
      "outputs": [
        {
          "output_type": "execute_result",
          "data": {
            "text/plain": [
              "[34, 'Hakuna matata', 65, 'apple', 24, 75, 'hi']"
            ]
          },
          "metadata": {},
          "execution_count": 14
        }
      ]
    },
    {
      "cell_type": "code",
      "source": [
        "# let us create a list of numbers to execute list methods\n",
        "num = [23,54,65,90,17,86,59,34,82,76]\n",
        "num"
      ],
      "metadata": {
        "colab": {
          "base_uri": "https://localhost:8080/"
        },
        "id": "Dqdigs8YoeQo",
        "outputId": "27e0c7d5-cd7a-498b-a8b0-10624ef72023"
      },
      "execution_count": null,
      "outputs": [
        {
          "output_type": "execute_result",
          "data": {
            "text/plain": [
              "[23, 54, 65, 90, 17, 86, 59, 34, 82, 76]"
            ]
          },
          "metadata": {},
          "execution_count": 15
        }
      ]
    },
    {
      "cell_type": "code",
      "source": [
        "dir (num)"
      ],
      "metadata": {
        "colab": {
          "base_uri": "https://localhost:8080/"
        },
        "id": "t_0gKAboo3A9",
        "outputId": "3e561252-4370-4b3c-a80b-da7dcd9766b0"
      },
      "execution_count": null,
      "outputs": [
        {
          "output_type": "execute_result",
          "data": {
            "text/plain": [
              "['__add__',\n",
              " '__class__',\n",
              " '__contains__',\n",
              " '__delattr__',\n",
              " '__delitem__',\n",
              " '__dir__',\n",
              " '__doc__',\n",
              " '__eq__',\n",
              " '__format__',\n",
              " '__ge__',\n",
              " '__getattribute__',\n",
              " '__getitem__',\n",
              " '__gt__',\n",
              " '__hash__',\n",
              " '__iadd__',\n",
              " '__imul__',\n",
              " '__init__',\n",
              " '__init_subclass__',\n",
              " '__iter__',\n",
              " '__le__',\n",
              " '__len__',\n",
              " '__lt__',\n",
              " '__mul__',\n",
              " '__ne__',\n",
              " '__new__',\n",
              " '__reduce__',\n",
              " '__reduce_ex__',\n",
              " '__repr__',\n",
              " '__reversed__',\n",
              " '__rmul__',\n",
              " '__setattr__',\n",
              " '__setitem__',\n",
              " '__sizeof__',\n",
              " '__str__',\n",
              " '__subclasshook__',\n",
              " 'append',\n",
              " 'clear',\n",
              " 'copy',\n",
              " 'count',\n",
              " 'extend',\n",
              " 'index',\n",
              " 'insert',\n",
              " 'pop',\n",
              " 'remove',\n",
              " 'reverse',\n",
              " 'sort']"
            ]
          },
          "metadata": {},
          "execution_count": 16
        }
      ]
    },
    {
      "cell_type": "markdown",
      "source": [
        "**APPEND**\n",
        "\n",
        "This function adds and element to the end of the list."
      ],
      "metadata": {
        "id": "KtrZsA91pdR4"
      }
    },
    {
      "cell_type": "code",
      "source": [
        "num.append (83)\n",
        "num"
      ],
      "metadata": {
        "colab": {
          "base_uri": "https://localhost:8080/"
        },
        "id": "euwFPBp4ppxY",
        "outputId": "5e435ad0-6af2-4c92-c2ba-2132613f98af"
      },
      "execution_count": null,
      "outputs": [
        {
          "output_type": "execute_result",
          "data": {
            "text/plain": [
              "[23, 54, 65, 90, 17, 86, 59, 34, 82, 76, 83]"
            ]
          },
          "metadata": {},
          "execution_count": 18
        }
      ]
    },
    {
      "cell_type": "markdown",
      "source": [
        "**CLEAR**\n",
        "\n",
        "This function removes all the elements from the list."
      ],
      "metadata": {
        "id": "H9uF-Obqq-fZ"
      }
    },
    {
      "cell_type": "code",
      "source": [
        "num.clear ()\n",
        "num"
      ],
      "metadata": {
        "colab": {
          "base_uri": "https://localhost:8080/"
        },
        "id": "d0jYnAAbrKEp",
        "outputId": "ba6706f5-60ee-447e-c38a-b6c8762149a9"
      },
      "execution_count": null,
      "outputs": [
        {
          "output_type": "execute_result",
          "data": {
            "text/plain": [
              "[]"
            ]
          },
          "metadata": {},
          "execution_count": 19
        }
      ]
    },
    {
      "cell_type": "code",
      "source": [
        "# since we cleared the previous list, create the list again.\n",
        "num = [23, 54, 65, 90, 54, 86, 59, 54, 82, 65, 83]\n",
        "num"
      ],
      "metadata": {
        "colab": {
          "base_uri": "https://localhost:8080/"
        },
        "id": "60C71x9crXtc",
        "outputId": "2eeff147-f060-4517-c29e-0fc05aa80bc1"
      },
      "execution_count": null,
      "outputs": [
        {
          "output_type": "execute_result",
          "data": {
            "text/plain": [
              "[23, 54, 65, 90, 54, 86, 59, 54, 82, 65, 83]"
            ]
          },
          "metadata": {},
          "execution_count": 24
        }
      ]
    },
    {
      "cell_type": "markdown",
      "source": [
        "**COPY**\n",
        "\n",
        "This function returns the copy of the list."
      ],
      "metadata": {
        "id": "UWbUcjz6rmkf"
      }
    },
    {
      "cell_type": "code",
      "source": [
        "num.copy\n",
        "num"
      ],
      "metadata": {
        "colab": {
          "base_uri": "https://localhost:8080/"
        },
        "id": "WSqBGL1RrtA-",
        "outputId": "3546295c-6c96-4fd0-b6f5-2a672363076d"
      },
      "execution_count": null,
      "outputs": [
        {
          "output_type": "execute_result",
          "data": {
            "text/plain": [
              "[23, 54, 65, 90, 54, 86, 59, 54, 82, 65, 83]"
            ]
          },
          "metadata": {},
          "execution_count": 26
        }
      ]
    },
    {
      "cell_type": "markdown",
      "source": [
        "**COUNT**\n",
        "\n",
        "This function returns the number of any specific element in the list."
      ],
      "metadata": {
        "id": "LpNWrWIprxBL"
      }
    },
    {
      "cell_type": "code",
      "source": [
        "#This will tell us how many times 54 is repeated in the list.\n",
        "num.count (54)"
      ],
      "metadata": {
        "colab": {
          "base_uri": "https://localhost:8080/"
        },
        "id": "DPzOuw7kr5Jl",
        "outputId": "ed7816ed-8790-4e22-a93c-064b01dc27b1"
      },
      "execution_count": null,
      "outputs": [
        {
          "output_type": "execute_result",
          "data": {
            "text/plain": [
              "3"
            ]
          },
          "metadata": {},
          "execution_count": 27
        }
      ]
    },
    {
      "cell_type": "markdown",
      "source": [
        "**EXTEND**\n",
        "\n",
        "This function adds elements of a list to the end of the another list.\n",
        "The count of elements in both lists must be same. If not, while executing the function, the elemnts of the smaller list will be copied and displayed to match the count of elements of the other list.\n"
      ],
      "metadata": {
        "id": "EvbUr3p3sagn"
      }
    },
    {
      "cell_type": "code",
      "source": [
        "# To execute this function, let us create another list\n",
        "char = [\"A\",\"B\",\"C\",\"D\",\"E\"]\n",
        "num.extend(char)\n",
        "print(num)"
      ],
      "metadata": {
        "colab": {
          "base_uri": "https://localhost:8080/"
        },
        "id": "ybl2Ps0VsnsP",
        "outputId": "15df09af-4ae7-45de-bfa3-414fd6d19177"
      },
      "execution_count": null,
      "outputs": [
        {
          "output_type": "stream",
          "name": "stdout",
          "text": [
            "[23, 54, 65, 90, 54, 86, 59, 54, 82, 65, 83, 'A', 'B', 'C', 'D', 'E', 'A', 'B', 'C', 'D', 'E']\n"
          ]
        }
      ]
    },
    {
      "cell_type": "markdown",
      "source": [
        "**INDEX** \n",
        " \n",
        "This function returns the index of the first value (ie.) It gives the position of the element in the list."
      ],
      "metadata": {
        "id": "gPBoyfAGt52B"
      }
    },
    {
      "cell_type": "code",
      "source": [
        "num.index(86)"
      ],
      "metadata": {
        "colab": {
          "base_uri": "https://localhost:8080/"
        },
        "id": "wLvBTgxTuAwq",
        "outputId": "394c1e33-a6a2-4a2f-883d-d4564d8e1a22"
      },
      "execution_count": null,
      "outputs": [
        {
          "output_type": "execute_result",
          "data": {
            "text/plain": [
              "5"
            ]
          },
          "metadata": {},
          "execution_count": 33
        }
      ]
    },
    {
      "cell_type": "markdown",
      "source": [
        "**INSERT**\n",
        "\n",
        "This function adds an element in a specific position."
      ],
      "metadata": {
        "id": "IjU3AJxFuUy8"
      }
    },
    {
      "cell_type": "code",
      "source": [
        "# To execute this let create the numbers list again.\n",
        "num = [23, 54, 65, 90, 54, 86, 59, 54, 82, 65, 83]\n",
        "num"
      ],
      "metadata": {
        "colab": {
          "base_uri": "https://localhost:8080/"
        },
        "id": "PpFc4slQucpg",
        "outputId": "e1bd03a7-8761-4c6c-f34d-f1bec13ef840"
      },
      "execution_count": null,
      "outputs": [
        {
          "output_type": "execute_result",
          "data": {
            "text/plain": [
              "[23, 54, 65, 90, 54, 86, 59, 54, 82, 65, 83]"
            ]
          },
          "metadata": {},
          "execution_count": 41
        }
      ]
    },
    {
      "cell_type": "code",
      "source": [
        "num.insert(2,\"pie\")\n",
        "num"
      ],
      "metadata": {
        "colab": {
          "base_uri": "https://localhost:8080/"
        },
        "id": "_JeRhDFmvBoh",
        "outputId": "28adc8b0-932c-45e9-d94d-820aab3f0ccd"
      },
      "execution_count": null,
      "outputs": [
        {
          "output_type": "execute_result",
          "data": {
            "text/plain": [
              "[23, 54, 'pie', 65, 90, 54, 86, 59, 54, 82, 65, 83]"
            ]
          },
          "metadata": {},
          "execution_count": 37
        }
      ]
    },
    {
      "cell_type": "markdown",
      "source": [
        "**POP**\n",
        "\n",
        "This function removes an element from the specified position."
      ],
      "metadata": {
        "id": "jZf7iW3GvGtE"
      }
    },
    {
      "cell_type": "code",
      "source": [
        "# Let us remove the \"pie\" element which we inserted before.\n",
        "num.pop(2)\n",
        "num"
      ],
      "metadata": {
        "colab": {
          "base_uri": "https://localhost:8080/"
        },
        "id": "NOxVmgr9vSt0",
        "outputId": "18c52a74-5019-46cd-dfb7-2d2b89830877"
      },
      "execution_count": null,
      "outputs": [
        {
          "output_type": "execute_result",
          "data": {
            "text/plain": [
              "[23, 54, 65, 90, 54, 86, 59, 54, 82, 65, 83]"
            ]
          },
          "metadata": {},
          "execution_count": 38
        }
      ]
    },
    {
      "cell_type": "markdown",
      "source": [
        "**REMOVE**\n",
        "\n",
        "This function removes the specified element from the list. We need not give the position of the element."
      ],
      "metadata": {
        "id": "Px8uMjBjvdnG"
      }
    },
    {
      "cell_type": "code",
      "source": [
        "num.remove(65)\n",
        "num"
      ],
      "metadata": {
        "colab": {
          "base_uri": "https://localhost:8080/"
        },
        "id": "jNZSaLxDvxps",
        "outputId": "9a523e4a-780f-49de-9e0e-a38e7e5b5ed2"
      },
      "execution_count": null,
      "outputs": [
        {
          "output_type": "execute_result",
          "data": {
            "text/plain": [
              "[23, 54, 90, 54, 86, 59, 54, 82, 65, 83]"
            ]
          },
          "metadata": {},
          "execution_count": 42
        }
      ]
    },
    {
      "cell_type": "markdown",
      "source": [
        "**REVERSE**\n",
        "\n",
        "This function reverses the order of the list."
      ],
      "metadata": {
        "id": "g5Sc2iVuv9lB"
      }
    },
    {
      "cell_type": "code",
      "source": [
        "# Let us create an easy list to execute this function\n",
        "numbers = [1,2,3,4,5,6,7]\n",
        "numbers"
      ],
      "metadata": {
        "colab": {
          "base_uri": "https://localhost:8080/"
        },
        "id": "g8cbO0xewGu6",
        "outputId": "cafbbcb1-fdc8-4865-b7a2-9ed5ad3291ab"
      },
      "execution_count": null,
      "outputs": [
        {
          "output_type": "execute_result",
          "data": {
            "text/plain": [
              "[1, 2, 3, 4, 5, 6, 7]"
            ]
          },
          "metadata": {},
          "execution_count": 46
        }
      ]
    },
    {
      "cell_type": "code",
      "source": [
        "numbers.reverse()\n",
        "print (numbers)"
      ],
      "metadata": {
        "colab": {
          "base_uri": "https://localhost:8080/"
        },
        "id": "QkrsRFFcwavn",
        "outputId": "aed59b17-b0ff-4a37-df92-a18630a68f52"
      },
      "execution_count": null,
      "outputs": [
        {
          "output_type": "stream",
          "name": "stdout",
          "text": [
            "[7, 6, 5, 4, 3, 2, 1]\n"
          ]
        }
      ]
    },
    {
      "cell_type": "markdown",
      "source": [
        "**SORT**\n",
        "\n",
        "This function sorts the order of the list. By default it gives an ascending order."
      ],
      "metadata": {
        "id": "kqKhU2qEwjg_"
      }
    },
    {
      "cell_type": "code",
      "source": [
        "num.sort()\n",
        "num"
      ],
      "metadata": {
        "colab": {
          "base_uri": "https://localhost:8080/"
        },
        "id": "ZQ2XQuu8wvds",
        "outputId": "d2dd0307-c27d-4309-9add-de3b66071008"
      },
      "execution_count": null,
      "outputs": [
        {
          "output_type": "execute_result",
          "data": {
            "text/plain": [
              "[23, 54, 54, 54, 59, 65, 82, 83, 86, 90]"
            ]
          },
          "metadata": {},
          "execution_count": 49
        }
      ]
    },
    {
      "cell_type": "markdown",
      "source": [
        "# **SET**\n",
        "\n",
        "Set is a collecion of unordered and unindexed elements. They are used to store multiple elements in a single variable. Sets are given inside curly braces."
      ],
      "metadata": {
        "id": "9ijCIYdcxAbY"
      }
    },
    {
      "cell_type": "code",
      "source": [
        "# example\n",
        "myset = {\"appy\",23,76,0}\n",
        "myset"
      ],
      "metadata": {
        "colab": {
          "base_uri": "https://localhost:8080/"
        },
        "id": "OAlnQxVSxRaZ",
        "outputId": "1eb105ab-c3d1-4ab1-809f-62dc9f8316b2"
      },
      "execution_count": null,
      "outputs": [
        {
          "output_type": "execute_result",
          "data": {
            "text/plain": [
              "{0, 23, 76, 'appy'}"
            ]
          },
          "metadata": {},
          "execution_count": 50
        }
      ]
    },
    {
      "cell_type": "code",
      "source": [
        "# Let us create a set to excute all our functions\n",
        "sets = {1,2,3,4,5,6,7,8,9}\n",
        "sets"
      ],
      "metadata": {
        "colab": {
          "base_uri": "https://localhost:8080/"
        },
        "id": "g822X2Vrx8Gc",
        "outputId": "9b2294d1-ccc0-47c7-8966-5f65cf2fa5f1"
      },
      "execution_count": null,
      "outputs": [
        {
          "output_type": "execute_result",
          "data": {
            "text/plain": [
              "{1, 2, 3, 4, 5, 6, 7, 8, 9}"
            ]
          },
          "metadata": {},
          "execution_count": 54
        }
      ]
    },
    {
      "cell_type": "code",
      "source": [
        "dir (sets)"
      ],
      "metadata": {
        "colab": {
          "base_uri": "https://localhost:8080/"
        },
        "id": "E50RITfKxrvK",
        "outputId": "d12606f6-d7de-40c3-da8d-007a0dbd92b6"
      },
      "execution_count": null,
      "outputs": [
        {
          "output_type": "execute_result",
          "data": {
            "text/plain": [
              "['__and__',\n",
              " '__class__',\n",
              " '__contains__',\n",
              " '__delattr__',\n",
              " '__dir__',\n",
              " '__doc__',\n",
              " '__eq__',\n",
              " '__format__',\n",
              " '__ge__',\n",
              " '__getattribute__',\n",
              " '__gt__',\n",
              " '__hash__',\n",
              " '__iand__',\n",
              " '__init__',\n",
              " '__init_subclass__',\n",
              " '__ior__',\n",
              " '__isub__',\n",
              " '__iter__',\n",
              " '__ixor__',\n",
              " '__le__',\n",
              " '__len__',\n",
              " '__lt__',\n",
              " '__ne__',\n",
              " '__new__',\n",
              " '__or__',\n",
              " '__rand__',\n",
              " '__reduce__',\n",
              " '__reduce_ex__',\n",
              " '__repr__',\n",
              " '__ror__',\n",
              " '__rsub__',\n",
              " '__rxor__',\n",
              " '__setattr__',\n",
              " '__sizeof__',\n",
              " '__str__',\n",
              " '__sub__',\n",
              " '__subclasshook__',\n",
              " '__xor__',\n",
              " 'add',\n",
              " 'clear',\n",
              " 'copy',\n",
              " 'difference',\n",
              " 'difference_update',\n",
              " 'discard',\n",
              " 'intersection',\n",
              " 'intersection_update',\n",
              " 'isdisjoint',\n",
              " 'issubset',\n",
              " 'issuperset',\n",
              " 'pop',\n",
              " 'remove',\n",
              " 'symmetric_difference',\n",
              " 'symmetric_difference_update',\n",
              " 'union',\n",
              " 'update']"
            ]
          },
          "metadata": {},
          "execution_count": 55
        }
      ]
    },
    {
      "cell_type": "markdown",
      "source": [
        "**ADD**\n",
        "\n",
        "This function adds an elemnt to the set."
      ],
      "metadata": {
        "id": "qfprGI3xyOdQ"
      }
    },
    {
      "cell_type": "code",
      "source": [
        "sets.add(10)\n",
        "sets"
      ],
      "metadata": {
        "colab": {
          "base_uri": "https://localhost:8080/"
        },
        "id": "nBRnW1s2yUZA",
        "outputId": "de1ab35f-d809-4018-86ca-110f6f3280d2"
      },
      "execution_count": null,
      "outputs": [
        {
          "output_type": "execute_result",
          "data": {
            "text/plain": [
              "{1, 2, 3, 4, 5, 6, 7, 8, 9, 10}"
            ]
          },
          "metadata": {},
          "execution_count": 56
        }
      ]
    },
    {
      "cell_type": "markdown",
      "source": [
        "**CLEAR**\n",
        "\n",
        "This function removes all the elements from the set."
      ],
      "metadata": {
        "id": "BSFza4DeydZU"
      }
    },
    {
      "cell_type": "code",
      "source": [
        "sets.clear()\n",
        "sets"
      ],
      "metadata": {
        "colab": {
          "base_uri": "https://localhost:8080/"
        },
        "id": "G8n-A6KgymVY",
        "outputId": "dd84288f-9ce6-409e-aa22-db2444ebc9b0"
      },
      "execution_count": null,
      "outputs": [
        {
          "output_type": "execute_result",
          "data": {
            "text/plain": [
              "set()"
            ]
          },
          "metadata": {},
          "execution_count": 57
        }
      ]
    },
    {
      "cell_type": "code",
      "source": [
        "# Let us again create the set to execute other functions further.\n",
        "sets = {1,2,3,4,5,6,7,8,9,10}\n",
        "sets"
      ],
      "metadata": {
        "colab": {
          "base_uri": "https://localhost:8080/"
        },
        "id": "Ib9S-ZGCytby",
        "outputId": "e0e52c26-9363-4fce-b041-193c8b422cba"
      },
      "execution_count": null,
      "outputs": [
        {
          "output_type": "execute_result",
          "data": {
            "text/plain": [
              "{1, 2, 3, 4, 5, 6, 7, 8, 9, 10}"
            ]
          },
          "metadata": {},
          "execution_count": 58
        }
      ]
    },
    {
      "cell_type": "markdown",
      "source": [
        "**COPY**\n",
        "\n",
        "This function returns the copy of the set."
      ],
      "metadata": {
        "id": "91zfTUVby2lJ"
      }
    },
    {
      "cell_type": "code",
      "source": [
        "myset.copy\n",
        "myset"
      ],
      "metadata": {
        "colab": {
          "base_uri": "https://localhost:8080/"
        },
        "id": "vUd7mxZhy-L4",
        "outputId": "e0668f75-beb0-4359-d69c-0b7efdf7356d"
      },
      "execution_count": null,
      "outputs": [
        {
          "output_type": "execute_result",
          "data": {
            "text/plain": [
              "{0, 23, 76, 'appy'}"
            ]
          },
          "metadata": {},
          "execution_count": 60
        }
      ]
    },
    {
      "cell_type": "markdown",
      "source": [
        "DIFFERENCE\n",
        "\n",
        "This function returns the difference between two sets. For example, we have two sets A and B. This function returns the elements which are **present** in set A which are **not** **present** in set B."
      ],
      "metadata": {
        "id": "bIptYFjFzD14"
      }
    },
    {
      "cell_type": "code",
      "source": [
        "# Let us create another set to find difference between two sets\n",
        "setz = {1,2,5,4,76,34,25,9,32}\n",
        "setz"
      ],
      "metadata": {
        "colab": {
          "base_uri": "https://localhost:8080/"
        },
        "id": "021exM2vzhH3",
        "outputId": "00c598e0-1510-4c95-8c2f-9aea87c2629c"
      },
      "execution_count": null,
      "outputs": [
        {
          "output_type": "execute_result",
          "data": {
            "text/plain": [
              "{1, 2, 4, 5, 9, 25, 32, 34, 76}"
            ]
          },
          "metadata": {},
          "execution_count": 61
        }
      ]
    },
    {
      "cell_type": "code",
      "source": [
        "newset = sets.difference(setz)\n",
        "newset"
      ],
      "metadata": {
        "colab": {
          "base_uri": "https://localhost:8080/"
        },
        "id": "LWDawepOzsKp",
        "outputId": "a97db812-6dc9-44b8-e63b-9bdc4a1d0f64"
      },
      "execution_count": null,
      "outputs": [
        {
          "output_type": "execute_result",
          "data": {
            "text/plain": [
              "{3, 6, 7, 8, 10}"
            ]
          },
          "metadata": {},
          "execution_count": 62
        }
      ]
    },
    {
      "cell_type": "markdown",
      "source": [
        "DIFFERNCE_UPDATE\n",
        "\n",
        "This function removes the items that exist in both sets."
      ],
      "metadata": {
        "id": "SqEc57Ecz7M3"
      }
    },
    {
      "cell_type": "code",
      "source": [
        "sets"
      ],
      "metadata": {
        "colab": {
          "base_uri": "https://localhost:8080/"
        },
        "id": "b8OtIFKZ0FK3",
        "outputId": "6cf156ee-7114-4605-a25e-23bab93990a3"
      },
      "execution_count": null,
      "outputs": [
        {
          "output_type": "execute_result",
          "data": {
            "text/plain": [
              "{1, 2, 3, 4, 5, 6, 7, 8, 9, 10}"
            ]
          },
          "metadata": {},
          "execution_count": 63
        }
      ]
    },
    {
      "cell_type": "code",
      "source": [
        "setz"
      ],
      "metadata": {
        "colab": {
          "base_uri": "https://localhost:8080/"
        },
        "id": "HzkUSRST0GeD",
        "outputId": "c97c0566-ba13-4494-b4a9-3f5a2168a6a3"
      },
      "execution_count": null,
      "outputs": [
        {
          "output_type": "execute_result",
          "data": {
            "text/plain": [
              "{1, 2, 4, 5, 9, 25, 32, 34, 76}"
            ]
          },
          "metadata": {},
          "execution_count": 64
        }
      ]
    },
    {
      "cell_type": "code",
      "source": [
        "sets.difference_update(setz)\n",
        "print (sets)"
      ],
      "metadata": {
        "colab": {
          "base_uri": "https://localhost:8080/"
        },
        "id": "kxBR8nke0INS",
        "outputId": "b7d153e5-ead6-4c84-a46e-d5688652dd1c"
      },
      "execution_count": null,
      "outputs": [
        {
          "output_type": "stream",
          "name": "stdout",
          "text": [
            "{3, 6, 7, 8, 10}\n"
          ]
        }
      ]
    },
    {
      "cell_type": "markdown",
      "source": [
        "**DISCARD**\n",
        "\n",
        "This function removes a specific element from the set."
      ],
      "metadata": {
        "id": "fXJMIW4u0VEc"
      }
    },
    {
      "cell_type": "code",
      "source": [
        "sets.discard(10)\n",
        "sets"
      ],
      "metadata": {
        "colab": {
          "base_uri": "https://localhost:8080/"
        },
        "id": "2NGCXuHA0ci1",
        "outputId": "c180da32-bc15-425b-e3b5-545ae6a55e5e"
      },
      "execution_count": null,
      "outputs": [
        {
          "output_type": "execute_result",
          "data": {
            "text/plain": [
              "{3, 6, 7, 8}"
            ]
          },
          "metadata": {},
          "execution_count": 68
        }
      ]
    },
    {
      "cell_type": "markdown",
      "source": [
        "**INTERSECTION**\n",
        "\n",
        "This function returns a set that contains the items that exist in both sets."
      ],
      "metadata": {
        "id": "dHjMQxoj0kK0"
      }
    },
    {
      "cell_type": "code",
      "source": [
        "sets = {1,2,3,4,5,6,7,8,9,10}\n",
        "sets\n"
      ],
      "metadata": {
        "colab": {
          "base_uri": "https://localhost:8080/"
        },
        "id": "mmmiMPF7003T",
        "outputId": "340615e5-b40f-429d-8bd3-55aedc4c9ae0"
      },
      "execution_count": null,
      "outputs": [
        {
          "output_type": "execute_result",
          "data": {
            "text/plain": [
              "{1, 2, 3, 4, 5, 6, 7, 8, 9, 10}"
            ]
          },
          "metadata": {},
          "execution_count": 73
        }
      ]
    },
    {
      "cell_type": "code",
      "source": [
        "setz = {11,2,3,44,55,6,77,88,99,10}\n",
        "setz"
      ],
      "metadata": {
        "colab": {
          "base_uri": "https://localhost:8080/"
        },
        "id": "_7Kr7Omq1YTL",
        "outputId": "1cf155cd-56b0-41e4-bc7f-2e62b9a3f23b"
      },
      "execution_count": null,
      "outputs": [
        {
          "output_type": "execute_result",
          "data": {
            "text/plain": [
              "{2, 3, 6, 10, 11, 44, 55, 77, 88, 99}"
            ]
          },
          "metadata": {},
          "execution_count": 76
        }
      ]
    },
    {
      "cell_type": "code",
      "source": [
        "newset = sets.intersection(setz)\n",
        "print (newset)"
      ],
      "metadata": {
        "colab": {
          "base_uri": "https://localhost:8080/"
        },
        "id": "Mbbu1OvL1bt2",
        "outputId": "34e1d4fa-9b70-470a-f794-986cabd1b158"
      },
      "execution_count": null,
      "outputs": [
        {
          "output_type": "stream",
          "name": "stdout",
          "text": [
            "{10, 2, 3, 6}\n"
          ]
        }
      ]
    },
    {
      "cell_type": "markdown",
      "source": [
        "**INTERSECTION_UPDATE**\n",
        "\n",
        "This function removes the items which are not present in both sets."
      ],
      "metadata": {
        "id": "Zvj4zIT41q9e"
      }
    },
    {
      "cell_type": "code",
      "source": [
        "sets = {1,2,3,4,5,6,7,8,9,10}\n",
        "sets"
      ],
      "metadata": {
        "colab": {
          "base_uri": "https://localhost:8080/"
        },
        "id": "rKGKDaTs1_uY",
        "outputId": "97fcf79e-5ac8-4d53-d395-24e4320fb609"
      },
      "execution_count": null,
      "outputs": [
        {
          "output_type": "execute_result",
          "data": {
            "text/plain": [
              "{1, 2, 3, 4, 5, 6, 7, 8, 9, 10}"
            ]
          },
          "metadata": {},
          "execution_count": 1
        }
      ]
    },
    {
      "cell_type": "code",
      "source": [
        "setz = {11,2,3,44,55,6,77,88,99,10}\n",
        "setz"
      ],
      "metadata": {
        "colab": {
          "base_uri": "https://localhost:8080/"
        },
        "id": "c9kjruGpaUPU",
        "outputId": "d39e8add-8281-4467-8b01-c82a9a35eda7"
      },
      "execution_count": null,
      "outputs": [
        {
          "output_type": "execute_result",
          "data": {
            "text/plain": [
              "{2, 3, 6, 10, 11, 44, 55, 77, 88, 99}"
            ]
          },
          "metadata": {},
          "execution_count": 2
        }
      ]
    },
    {
      "cell_type": "code",
      "source": [
        "sets.intersection_update(setz)\n",
        "print (sets)"
      ],
      "metadata": {
        "colab": {
          "base_uri": "https://localhost:8080/"
        },
        "id": "5PGN4kxOaar-",
        "outputId": "762177c8-8271-4b34-bf55-a7c243819bbf"
      },
      "execution_count": null,
      "outputs": [
        {
          "output_type": "stream",
          "name": "stdout",
          "text": [
            "{10, 2, 3}\n"
          ]
        }
      ]
    },
    {
      "cell_type": "markdown",
      "source": [
        "**ISDISJOINT**\n",
        "\n",
        "This function returns True if no items in set A is present in set B. This helps us to check whether the two sets are in intersection or not."
      ],
      "metadata": {
        "id": "KN4QO8vJbsA4"
      }
    },
    {
      "cell_type": "code",
      "source": [
        "newset = sets.isdisjoint(setz)\n",
        "print (newset)\n",
        "#It is False here because Set B has some elements same as Set A."
      ],
      "metadata": {
        "colab": {
          "base_uri": "https://localhost:8080/"
        },
        "id": "hCMZEOeucHei",
        "outputId": "2edae8d3-e600-43a9-c6f9-f5213dbdf780"
      },
      "execution_count": null,
      "outputs": [
        {
          "output_type": "stream",
          "name": "stdout",
          "text": [
            "False\n"
          ]
        }
      ]
    },
    {
      "cell_type": "markdown",
      "source": [
        "**ISSUBSET**\n",
        "\n",
        "This function returns True if all items in set A are present in set B."
      ],
      "metadata": {
        "id": "IS2SWSYzcnFf"
      }
    },
    {
      "cell_type": "code",
      "source": [
        "newset = sets.issubset(setz)\n",
        "print (newset)\n",
        "# It is True here because all elements of Set A are present in Set B."
      ],
      "metadata": {
        "colab": {
          "base_uri": "https://localhost:8080/"
        },
        "id": "P3bI0ec6c74T",
        "outputId": "b5fb4eb0-38d4-4dea-ec51-dabd34db06cd"
      },
      "execution_count": null,
      "outputs": [
        {
          "output_type": "stream",
          "name": "stdout",
          "text": [
            "True\n"
          ]
        }
      ]
    },
    {
      "cell_type": "markdown",
      "source": [
        "**ISSUPERSET**\n",
        "\n",
        "This function returns True if all items set B are present in set A."
      ],
      "metadata": {
        "id": "GEl2LTpXde3-"
      }
    },
    {
      "cell_type": "code",
      "source": [
        "newset = sets.issuperset(setz)\n",
        "print (newset)\n",
        "#It is False because not all elements of Set B are present in Set A."
      ],
      "metadata": {
        "colab": {
          "base_uri": "https://localhost:8080/"
        },
        "id": "sNxeHZU7dxrx",
        "outputId": "4b30c394-fec2-4c54-f8be-84b7e859c930"
      },
      "execution_count": null,
      "outputs": [
        {
          "output_type": "stream",
          "name": "stdout",
          "text": [
            "False\n"
          ]
        }
      ]
    },
    {
      "cell_type": "markdown",
      "source": [
        "**POP**\n",
        "\n",
        "This function removes a random item from the set."
      ],
      "metadata": {
        "id": "djNax3rwd_tp"
      }
    },
    {
      "cell_type": "code",
      "source": [
        "sets = {1,2,3,4,5,6,7,8,9,10}\n",
        "sets.pop()\n",
        "sets"
      ],
      "metadata": {
        "colab": {
          "base_uri": "https://localhost:8080/"
        },
        "id": "ieqcH4UaeKF4",
        "outputId": "28295d16-f010-43fc-e55c-2fbf2453cf48"
      },
      "execution_count": null,
      "outputs": [
        {
          "output_type": "execute_result",
          "data": {
            "text/plain": [
              "{2, 3, 4, 5, 6, 7, 8, 9, 10}"
            ]
          },
          "metadata": {},
          "execution_count": 9
        }
      ]
    },
    {
      "cell_type": "markdown",
      "source": [
        "**REMOVE**\n",
        "\n",
        "This function removes a specific element from the set."
      ],
      "metadata": {
        "id": "_C_vVDz8eVVD"
      }
    },
    {
      "cell_type": "code",
      "source": [
        "sets.remove(6)\n",
        "sets"
      ],
      "metadata": {
        "colab": {
          "base_uri": "https://localhost:8080/"
        },
        "id": "1heg_lZPevxS",
        "outputId": "c17d2ba0-fa8f-4c9d-de46-6fcf1c4c7c65"
      },
      "execution_count": null,
      "outputs": [
        {
          "output_type": "execute_result",
          "data": {
            "text/plain": [
              "{2, 3, 4, 5, 7, 8, 9, 10}"
            ]
          },
          "metadata": {},
          "execution_count": 11
        }
      ]
    },
    {
      "cell_type": "markdown",
      "source": [
        "SYMMETRIC DIFFERENCE\n",
        "\n",
        "This function returns a set that contains all items from both sets, except items that are present in both sets."
      ],
      "metadata": {
        "id": "cJmbApmGe4HW"
      }
    },
    {
      "cell_type": "code",
      "source": [
        "set1 = {\"apple\",\"cherry\",\"plum\",\"orange\"}\n",
        "set2 = {\"red\",\"blue\",\"orange\",\"green\"}\n",
        "set3 = set1.symmetric_difference(set2)\n",
        "set3"
      ],
      "metadata": {
        "colab": {
          "base_uri": "https://localhost:8080/"
        },
        "id": "WoRVK6G7fEDW",
        "outputId": "41a33d83-2c05-4956-9cba-9c31a5261a3d"
      },
      "execution_count": null,
      "outputs": [
        {
          "output_type": "execute_result",
          "data": {
            "text/plain": [
              "{'apple', 'blue', 'cherry', 'green', 'plum', 'red'}"
            ]
          },
          "metadata": {},
          "execution_count": 14
        }
      ]
    },
    {
      "cell_type": "markdown",
      "source": [
        "SYMMTRIC_DIFFERENCE_UPDATE\n",
        "\n",
        "This function returns a set that contains all items from both sets, except items that are present in both sets."
      ],
      "metadata": {
        "id": "N_bzX-vKfrio"
      }
    },
    {
      "cell_type": "code",
      "source": [
        "set1 = {\"apple\",\"cherry\",\"plum\",\"orange\"}\n",
        "set2 = {\"red\",\"blue\",\"orange\",\"green\"}\n",
        "set1.symmetric_difference_update(set2)\n",
        "print(set1)"
      ],
      "metadata": {
        "colab": {
          "base_uri": "https://localhost:8080/"
        },
        "id": "vZGwHPTyf5OL",
        "outputId": "7ee228d0-68ea-478a-b998-cb6fef478076"
      },
      "execution_count": null,
      "outputs": [
        {
          "output_type": "stream",
          "name": "stdout",
          "text": [
            "{'blue', 'plum', 'cherry', 'apple', 'green', 'red'}\n"
          ]
        }
      ]
    },
    {
      "cell_type": "markdown",
      "source": [
        "**UNION**\n",
        "\n",
        "This function returns a set that contains all items from both sets. Here duplicates are excluded."
      ],
      "metadata": {
        "id": "98BnU11fgd5a"
      }
    },
    {
      "cell_type": "code",
      "source": [
        "set1 = {\"apple\",\"cherry\",\"plum\",\"orange\"}\n",
        "set2 = {\"red\",\"blue\",\"orange\",\"green\"}\n",
        "set3 = set1.union(set2)\n",
        "print (set3)"
      ],
      "metadata": {
        "colab": {
          "base_uri": "https://localhost:8080/"
        },
        "id": "1IYn_I6KgqSu",
        "outputId": "5d1d08f9-d6a4-4b73-e0b1-d27bbc0336b1"
      },
      "execution_count": null,
      "outputs": [
        {
          "output_type": "stream",
          "name": "stdout",
          "text": [
            "{'blue', 'plum', 'orange', 'cherry', 'apple', 'green', 'red'}\n"
          ]
        }
      ]
    },
    {
      "cell_type": "markdown",
      "source": [
        "**UPDATE**\n",
        "\n",
        "This function inserts the items from set B into set A."
      ],
      "metadata": {
        "id": "gt14tHo_g4XI"
      }
    },
    {
      "cell_type": "code",
      "source": [
        "set1 = {\"apple\",\"cherry\",\"plum\",\"orange\"}\n",
        "set2 = {\"red\",\"blue\",\"orange\",\"green\"}\n",
        "set1.update(set2)\n",
        "print(set1)"
      ],
      "metadata": {
        "colab": {
          "base_uri": "https://localhost:8080/"
        },
        "id": "nePP_5xDg_UQ",
        "outputId": "7049c427-b3ec-41f0-a602-3dff48888888"
      },
      "execution_count": null,
      "outputs": [
        {
          "output_type": "stream",
          "name": "stdout",
          "text": [
            "{'blue', 'plum', 'orange', 'cherry', 'apple', 'green', 'red'}\n"
          ]
        }
      ]
    },
    {
      "cell_type": "markdown",
      "source": [
        "# **DICTIONARY**\n",
        "\n",
        "Dictionaries are used to store data values as 'key:value' pairs. It is an ordered collection and do not allow duplicates."
      ],
      "metadata": {
        "id": "KhhzXNfvhdZN"
      }
    },
    {
      "cell_type": "code",
      "source": [
        "# example\n",
        "mydict = {\"an apple a day\":\"keeps the doctor away\",3.14:\"value of pie\", \"odd\":\"even\"}\n",
        "mydict"
      ],
      "metadata": {
        "colab": {
          "base_uri": "https://localhost:8080/"
        },
        "id": "hfmDCnmth9l6",
        "outputId": "10a170fe-227f-4f5d-90fa-b360e8ac4e33"
      },
      "execution_count": 2,
      "outputs": [
        {
          "output_type": "execute_result",
          "data": {
            "text/plain": [
              "{'an apple a day': 'keeps the doctor away',\n",
              " 3.14: 'value of pie',\n",
              " 'odd': 'even'}"
            ]
          },
          "metadata": {},
          "execution_count": 2
        }
      ]
    },
    {
      "cell_type": "code",
      "source": [
        "dir (mydict)"
      ],
      "metadata": {
        "id": "Dpy23-eGp2x0",
        "outputId": "f3b22d8c-5fa0-4cf8-a2ac-b761f23ef5a9",
        "colab": {
          "base_uri": "https://localhost:8080/"
        }
      },
      "execution_count": 3,
      "outputs": [
        {
          "output_type": "execute_result",
          "data": {
            "text/plain": [
              "['__class__',\n",
              " '__contains__',\n",
              " '__delattr__',\n",
              " '__delitem__',\n",
              " '__dir__',\n",
              " '__doc__',\n",
              " '__eq__',\n",
              " '__format__',\n",
              " '__ge__',\n",
              " '__getattribute__',\n",
              " '__getitem__',\n",
              " '__gt__',\n",
              " '__hash__',\n",
              " '__init__',\n",
              " '__init_subclass__',\n",
              " '__iter__',\n",
              " '__le__',\n",
              " '__len__',\n",
              " '__lt__',\n",
              " '__ne__',\n",
              " '__new__',\n",
              " '__reduce__',\n",
              " '__reduce_ex__',\n",
              " '__repr__',\n",
              " '__setattr__',\n",
              " '__setitem__',\n",
              " '__sizeof__',\n",
              " '__str__',\n",
              " '__subclasshook__',\n",
              " 'clear',\n",
              " 'copy',\n",
              " 'fromkeys',\n",
              " 'get',\n",
              " 'items',\n",
              " 'keys',\n",
              " 'pop',\n",
              " 'popitem',\n",
              " 'setdefault',\n",
              " 'update',\n",
              " 'values']"
            ]
          },
          "metadata": {},
          "execution_count": 3
        }
      ]
    },
    {
      "cell_type": "markdown",
      "source": [
        "**CLEAR**\n",
        "\n",
        "This function clears all the keys and values stored in the dictionary."
      ],
      "metadata": {
        "id": "HGmNptIKiVjU"
      }
    },
    {
      "cell_type": "code",
      "source": [
        "mydict.clear()\n",
        "mydict"
      ],
      "metadata": {
        "colab": {
          "base_uri": "https://localhost:8080/"
        },
        "id": "yXnty9EGi4gi",
        "outputId": "a46b21a0-21d7-46a9-b839-68d23d859ec9"
      },
      "execution_count": null,
      "outputs": [
        {
          "output_type": "execute_result",
          "data": {
            "text/plain": [
              "{}"
            ]
          },
          "metadata": {},
          "execution_count": 27
        }
      ]
    },
    {
      "cell_type": "markdown",
      "source": [
        "**COPY**\n",
        "\n",
        "This function gives a copy the dictionary we need."
      ],
      "metadata": {
        "id": "gXNSKN77jAV6"
      }
    },
    {
      "cell_type": "code",
      "source": [
        "mydict = {\"an apple a day\":\"keeps the doctor away\",3.14:\"value of pie\", \"odd\":\"even\"}\n",
        "mydict.copy\n",
        "mydict"
      ],
      "metadata": {
        "colab": {
          "base_uri": "https://localhost:8080/"
        },
        "id": "uJdOejAgjQyW",
        "outputId": "909a98db-57fd-4ab2-d660-f6399df6aa0f"
      },
      "execution_count": null,
      "outputs": [
        {
          "output_type": "execute_result",
          "data": {
            "text/plain": [
              "{'an apple a day': 'keeps the doctor away',\n",
              " 3.14: 'value of pie',\n",
              " 'odd': 'even'}"
            ]
          },
          "metadata": {},
          "execution_count": 29
        }
      ]
    },
    {
      "cell_type": "markdown",
      "source": [
        "**FROM KEYS**\n",
        "\n",
        "This function returns a dictionary with the specified keys and value."
      ],
      "metadata": {
        "id": "_x5KsT66jb6N"
      }
    },
    {
      "cell_type": "code",
      "source": [
        "a = {\"chennai\",\"pune\",\"banglore\"}\n",
        "b = 0\n",
        "thisdict = dict.fromkeys(a,b)\n",
        "print (thisdict)"
      ],
      "metadata": {
        "colab": {
          "base_uri": "https://localhost:8080/"
        },
        "id": "AHA5Y94jj8OZ",
        "outputId": "2c0c0065-5a0b-4820-c50c-f1334f3e6de7"
      },
      "execution_count": null,
      "outputs": [
        {
          "output_type": "stream",
          "name": "stdout",
          "text": [
            "{'pune': 0, 'banglore': 0, 'chennai': 0}\n"
          ]
        }
      ]
    },
    {
      "cell_type": "markdown",
      "source": [
        "**GET**\n",
        "\n",
        "This function returns the value of the specified key."
      ],
      "metadata": {
        "id": "U02KG-Make8E"
      }
    },
    {
      "cell_type": "code",
      "source": [
        "bike = {\"model\":\"Royal Enfield\",\"colour\":\"black\",\"year of purchase\":\"2014\"}\n",
        "a = bike.get(\"colour\")\n",
        "print(a)"
      ],
      "metadata": {
        "colab": {
          "base_uri": "https://localhost:8080/"
        },
        "id": "cWZQZEemkn3x",
        "outputId": "683c68cf-5ba7-4ba7-de91-e0c35572184e"
      },
      "execution_count": null,
      "outputs": [
        {
          "output_type": "stream",
          "name": "stdout",
          "text": [
            "black\n"
          ]
        }
      ]
    },
    {
      "cell_type": "markdown",
      "source": [
        "**ITEMS**\n",
        "\n",
        "This function returns the dictionary's key-value pairs."
      ],
      "metadata": {
        "id": "oIe4bvi_lN-e"
      }
    },
    {
      "cell_type": "code",
      "source": [
        "bike = {\"model\":\"Royal Enfield\",\"colour\":\"black\",\"year of purchase\":\"2014\"}\n",
        "a = bike.items()\n",
        "print(a)"
      ],
      "metadata": {
        "colab": {
          "base_uri": "https://localhost:8080/"
        },
        "id": "zC5hMJ3AlY4r",
        "outputId": "c3336c7f-353c-4d99-f400-d4311b0fcf96"
      },
      "execution_count": null,
      "outputs": [
        {
          "output_type": "stream",
          "name": "stdout",
          "text": [
            "dict_items([('model', 'Royal Enfield'), ('colour', 'black'), ('year of purchase', '2014')])\n"
          ]
        }
      ]
    },
    {
      "cell_type": "markdown",
      "source": [
        "**KEYS**\n",
        "\n",
        "This function gives only the keys present in the dictionary"
      ],
      "metadata": {
        "id": "lYhxzhrYlhdD"
      }
    },
    {
      "cell_type": "code",
      "source": [
        "bike = {\"model\":\"Royal Enfield\",\"colour\":\"black\",\"year of purchase\":\"2014\"}\n",
        "a = bike.keys()\n",
        "print(a)"
      ],
      "metadata": {
        "colab": {
          "base_uri": "https://localhost:8080/"
        },
        "id": "FQB5FwcDlm8O",
        "outputId": "98fa9556-bb58-4db6-d3b8-9cbedc934e4c"
      },
      "execution_count": null,
      "outputs": [
        {
          "output_type": "stream",
          "name": "stdout",
          "text": [
            "dict_keys(['model', 'colour', 'year of purchase'])\n"
          ]
        }
      ]
    },
    {
      "cell_type": "markdown",
      "source": [
        "**POPITEM**\n",
        "\n",
        "This function removes the last item of the dictionary."
      ],
      "metadata": {
        "id": "6erB1d1Jlx2M"
      }
    },
    {
      "cell_type": "code",
      "source": [
        "bike = {\"model\":\"Royal Enfield\",\"colour\":\"black\",\"year of purchase\":\"2014\"}\n",
        "bike.popitem()\n",
        "bike"
      ],
      "metadata": {
        "colab": {
          "base_uri": "https://localhost:8080/"
        },
        "id": "_6QiWsZsl53D",
        "outputId": "a3b6dbbd-09e2-4ad6-ed96-9476329dc261"
      },
      "execution_count": null,
      "outputs": [
        {
          "output_type": "execute_result",
          "data": {
            "text/plain": [
              "{'model': 'Royal Enfield', 'colour': 'black'}"
            ]
          },
          "metadata": {},
          "execution_count": 37
        }
      ]
    },
    {
      "cell_type": "markdown",
      "source": [
        "**SET DEFAULT**\n",
        "\n",
        "This function returns the value of the specified key. If the key does not exist: inserts the key, with the specified value."
      ],
      "metadata": {
        "id": "3QbxLU-KmLWX"
      }
    },
    {
      "cell_type": "code",
      "source": [
        "bike = {\"model\":\"Royal Enfield\",\"colour\":\"black\",\"year of purchase\":\"2014\"}\n",
        "a = bike.setdefault(\"model\",\"Honda Hornett\")\n",
        "print(a)"
      ],
      "metadata": {
        "colab": {
          "base_uri": "https://localhost:8080/"
        },
        "id": "eK9k4Nz8mZKs",
        "outputId": "332debb1-fc5a-4772-e9bf-21217cb811f0"
      },
      "execution_count": null,
      "outputs": [
        {
          "output_type": "stream",
          "name": "stdout",
          "text": [
            "Royal Enfield\n"
          ]
        }
      ]
    },
    {
      "cell_type": "markdown",
      "source": [
        "**UPDATE**\n",
        "\n",
        "This function updates the dictionary with the specified key-value pairs."
      ],
      "metadata": {
        "id": "QHF3mRFom47V"
      }
    },
    {
      "cell_type": "code",
      "source": [
        "bike = {\"model\":\"Royal Enfield\",\"colour\":\"black\",\"year of purchase\":\"2014\"}\n",
        "bike.update({\"model\":\"Honda Hornett\"})\n",
        "print(bike)"
      ],
      "metadata": {
        "colab": {
          "base_uri": "https://localhost:8080/"
        },
        "id": "N3SCskNGm9J6",
        "outputId": "2dd0306d-c4fb-4cce-f555-75c3b57e685e"
      },
      "execution_count": null,
      "outputs": [
        {
          "output_type": "stream",
          "name": "stdout",
          "text": [
            "{'model': 'Honda Hornett', 'colour': 'black', 'year of purchase': '2014'}\n"
          ]
        }
      ]
    },
    {
      "cell_type": "markdown",
      "source": [
        "**VALUES**\n",
        "\n",
        "This function returns a list of all the values in the dictionary."
      ],
      "metadata": {
        "id": "njouQRRQnQWX"
      }
    },
    {
      "cell_type": "code",
      "source": [
        "bike = {\"model\":\"Royal Enfield\",\"colour\":\"black\",\"year of purchase\":\"2014\"}\n",
        "a = bike.values()\n",
        "print(a)"
      ],
      "metadata": {
        "colab": {
          "base_uri": "https://localhost:8080/"
        },
        "id": "8tDbPRk7ng01",
        "outputId": "2531ab38-4508-4908-be9b-724b413fd94a"
      },
      "execution_count": null,
      "outputs": [
        {
          "output_type": "stream",
          "name": "stdout",
          "text": [
            "dict_values(['Royal Enfield', 'black', '2014'])\n"
          ]
        }
      ]
    },
    {
      "cell_type": "markdown",
      "source": [
        "# **TUPLES**\n",
        "\n",
        "A tuple is a collection which is ordered and indexed. Tuples are written with round brackets. Tuples are used to store multiple items in a single variable."
      ],
      "metadata": {
        "id": "AtiEzuJ3nyth"
      }
    },
    {
      "cell_type": "code",
      "source": [
        "# example\n",
        "mytup = (\"python\",\"Java\",\"SPSS\",\"SQL\")\n",
        "mytup"
      ],
      "metadata": {
        "colab": {
          "base_uri": "https://localhost:8080/"
        },
        "id": "MOmYc5xMoAax",
        "outputId": "e56c3709-a964-4fdc-d57f-1c8da3bdb238"
      },
      "execution_count": 4,
      "outputs": [
        {
          "output_type": "execute_result",
          "data": {
            "text/plain": [
              "('python', 'Java', 'SPSS', 'SQL')"
            ]
          },
          "metadata": {},
          "execution_count": 4
        }
      ]
    },
    {
      "cell_type": "code",
      "source": [
        "dir (mytup)"
      ],
      "metadata": {
        "id": "s8oTz6W-qGbi",
        "outputId": "e3c0f0c1-07b3-4580-cd1d-def9d5611640",
        "colab": {
          "base_uri": "https://localhost:8080/"
        }
      },
      "execution_count": 6,
      "outputs": [
        {
          "output_type": "execute_result",
          "data": {
            "text/plain": [
              "['__add__',\n",
              " '__class__',\n",
              " '__contains__',\n",
              " '__delattr__',\n",
              " '__dir__',\n",
              " '__doc__',\n",
              " '__eq__',\n",
              " '__format__',\n",
              " '__ge__',\n",
              " '__getattribute__',\n",
              " '__getitem__',\n",
              " '__getnewargs__',\n",
              " '__gt__',\n",
              " '__hash__',\n",
              " '__init__',\n",
              " '__init_subclass__',\n",
              " '__iter__',\n",
              " '__le__',\n",
              " '__len__',\n",
              " '__lt__',\n",
              " '__mul__',\n",
              " '__ne__',\n",
              " '__new__',\n",
              " '__reduce__',\n",
              " '__reduce_ex__',\n",
              " '__repr__',\n",
              " '__rmul__',\n",
              " '__setattr__',\n",
              " '__sizeof__',\n",
              " '__str__',\n",
              " '__subclasshook__',\n",
              " 'count',\n",
              " 'index']"
            ]
          },
          "metadata": {},
          "execution_count": 6
        }
      ]
    },
    {
      "cell_type": "markdown",
      "source": [
        "**COUNT**\n",
        "\n",
        "This funtion returns the number of times a specified value occurs in a tuple."
      ],
      "metadata": {
        "id": "BROyb4TjoTFs"
      }
    },
    {
      "cell_type": "code",
      "source": [
        "tup = (1,4,2,4,3,5,6,4,7,8,4,9,4)\n",
        "tup.count(4)"
      ],
      "metadata": {
        "colab": {
          "base_uri": "https://localhost:8080/"
        },
        "id": "Z8LSfzwXoYFn",
        "outputId": "e6da3917-041f-4e09-bad0-2657a228274d"
      },
      "execution_count": null,
      "outputs": [
        {
          "output_type": "execute_result",
          "data": {
            "text/plain": [
              "5"
            ]
          },
          "metadata": {},
          "execution_count": 49
        }
      ]
    },
    {
      "cell_type": "markdown",
      "source": [
        "**INDEX**\n",
        "\n",
        "This function searches the tuple for a specified value and returns the position of where it was found."
      ],
      "metadata": {
        "id": "f6NZDIMuokvG"
      }
    },
    {
      "cell_type": "code",
      "source": [
        "tup = (1,4,2,4,3,5,6,4,7,8,4,9,4)\n",
        "tup.index(3)"
      ],
      "metadata": {
        "colab": {
          "base_uri": "https://localhost:8080/"
        },
        "id": "luZVpL28otTD",
        "outputId": "c9927d9b-83b2-4817-bd81-52ebe92045e6"
      },
      "execution_count": null,
      "outputs": [
        {
          "output_type": "execute_result",
          "data": {
            "text/plain": [
              "4"
            ]
          },
          "metadata": {},
          "execution_count": 50
        }
      ]
    }
  ]
}