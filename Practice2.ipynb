{
  "nbformat": 4,
  "nbformat_minor": 0,
  "metadata": {
    "colab": {
      "name": "Practice2.ipynb",
      "provenance": [],
      "collapsed_sections": [],
      "authorship_tag": "ABX9TyOri28tzGj8wbXaoxwgcRHa",
      "include_colab_link": true
    },
    "kernelspec": {
      "name": "python3",
      "display_name": "Python 3"
    },
    "language_info": {
      "name": "python"
    }
  },
  "cells": [
    {
      "cell_type": "markdown",
      "metadata": {
        "id": "view-in-github",
        "colab_type": "text"
      },
      "source": [
        "<a href=\"https://colab.research.google.com/github/IdaSharonJ/Simplepython-codes/blob/main/Practice2.ipynb\" target=\"_parent\"><img src=\"https://colab.research.google.com/assets/colab-badge.svg\" alt=\"Open In Colab\"/></a>"
      ]
    },
    {
      "cell_type": "markdown",
      "source": [
        "1.Input a list of numbers from the user, and remove all the duplicate values"
      ],
      "metadata": {
        "id": "NBF4iV3IyY4L"
      }
    },
    {
      "cell_type": "code",
      "execution_count": 9,
      "metadata": {
        "colab": {
          "base_uri": "https://localhost:8080/"
        },
        "id": "GPeKnt-ajZR8",
        "outputId": "b4fedc2d-932a-4122-fab2-eeb4eb1b811e"
      },
      "outputs": [
        {
          "output_type": "stream",
          "name": "stdout",
          "text": [
            "Enter elements of a list separated by space 1 2 3 4 3 5 3 6 3 7 4 8 5 9 2 \n",
            "\n",
            "\n",
            "[1, 2, 3, 4, 5, 6, 7, 8, 9]\n"
          ]
        }
      ],
      "source": [
        "input_string = input('Enter elements of a list separated by space ')\n",
        "print(\"\\n\")\n",
        "user_list = input_string.split()\n",
        "# convert each item to int type\n",
        "for i in range(len(user_list)):\n",
        "    # convert each item to int type\n",
        "    user_list[i] = int(user_list[i])\n",
        "#remove duplicates from the list\n",
        "user_list = list(dict.fromkeys(user_list))\n",
        "print(user_list)\n"
      ]
    },
    {
      "cell_type": "code",
      "source": [
        "input_string = input('Enter elements of a list separated by space ')\n",
        "print(\"\\n\")\n",
        "user_list = input_string.split()\n",
        "# convert each item to int type\n",
        "for i in range(len(user_list)):\n",
        "    # convert each item to int type\n",
        "    user_list[i] = int(user_list[i])\n",
        "\n",
        "newlist = set(user_list)\n",
        "newlist"
      ],
      "metadata": {
        "colab": {
          "base_uri": "https://localhost:8080/"
        },
        "id": "1bsaCwMPuR0h",
        "outputId": "608ca624-d48e-4077-9f51-fea922260aee"
      },
      "execution_count": 13,
      "outputs": [
        {
          "output_type": "stream",
          "name": "stdout",
          "text": [
            "Enter elements of a list separated by space 1 2 3 2 4 2 3 5 4 6 5 7 1  8  9 6 8 \n",
            "\n",
            "\n"
          ]
        },
        {
          "output_type": "execute_result",
          "data": {
            "text/plain": [
              "{1, 2, 3, 4, 5, 6, 7, 8, 9}"
            ]
          },
          "metadata": {},
          "execution_count": 13
        }
      ]
    },
    {
      "cell_type": "markdown",
      "source": [
        "2.Input a number N, Write a function to check if the number is a prime number."
      ],
      "metadata": {
        "id": "Oin1BIOLygSF"
      }
    },
    {
      "cell_type": "code",
      "source": [
        "num = int(input(\"Enter a number \"))\n",
        "# If given number is greater than 1\n",
        "if num > 1:\n",
        "\t# Iterate from 2 to n / 2\n",
        "\tfor i in range(2, int(num/2)+1):\n",
        "\t\t# If num is divisible by any number between\n",
        "\t\t# 2 and n / 2, it is not prime\n",
        "\t\tif (num % i) == 0:\n",
        "\t\t\tprint(num, \"is not a prime number\")\n",
        "\t\t\tbreak\n",
        "\telse:\n",
        "\t\tprint(num, \"is a prime number\")\n",
        "else:\n",
        "\tprint(num, \"is not a prime number\")\n"
      ],
      "metadata": {
        "colab": {
          "base_uri": "https://localhost:8080/"
        },
        "id": "4zks_ZlfyoDj",
        "outputId": "04e4dc3c-5f26-44fa-c06e-51a4865adec3"
      },
      "execution_count": 22,
      "outputs": [
        {
          "output_type": "stream",
          "name": "stdout",
          "text": [
            "Enter a number 11\n",
            "11 is a prime number\n"
          ]
        }
      ]
    },
    {
      "cell_type": "markdown",
      "source": [
        "3.Input a list of words and convert it into a count dictionary."
      ],
      "metadata": {
        "id": "oG7AX11q3lZD"
      }
    },
    {
      "cell_type": "code",
      "source": [
        "string = input(\" \")\n",
        "words = []\n",
        "\n",
        "words = string.split()\n",
        "frequency = [words.count(i) for i in words]\n",
        "\n",
        "myDict = dict(zip(words, frequency))\n",
        "print(\"Dictionary Items  :  \",  myDict)"
      ],
      "metadata": {
        "colab": {
          "base_uri": "https://localhost:8080/"
        },
        "id": "ojDZmbQl3mr-",
        "outputId": "7bdabd4a-ee4d-4ac6-ef4d-d503f236a9de"
      },
      "execution_count": 23,
      "outputs": [
        {
          "output_type": "stream",
          "name": "stdout",
          "text": [
            " Hi this is Ida\n",
            "Dictionary Items  :   {'Hi': 1, 'this': 1, 'is': 1, 'Ida': 1}\n"
          ]
        }
      ]
    },
    {
      "cell_type": "code",
      "source": [
        "\n",
        "string = input(\"\")\n",
        "words = []\n",
        "\n",
        "words = string.split() \n",
        "myDict = {}\n",
        "for key in words:\n",
        "    myDict[key] = words.count(key)\n",
        "\n",
        "print(\"Dictionary Items  :  \",  myDict)"
      ],
      "metadata": {
        "colab": {
          "base_uri": "https://localhost:8080/"
        },
        "id": "c6Mn0Hb45FVE",
        "outputId": "3617e446-c31f-4d52-994f-301ec7290223"
      },
      "execution_count": 26,
      "outputs": [
        {
          "output_type": "stream",
          "name": "stdout",
          "text": [
            "HI this is Ida Sharon\n",
            "Dictionary Items  :   {'HI': 1, 'this': 1, 'is': 1, 'Ida': 1, 'Sharon': 1}\n"
          ]
        }
      ]
    }
  ]
}