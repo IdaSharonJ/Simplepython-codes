{
  "nbformat": 4,
  "nbformat_minor": 0,
  "metadata": {
    "colab": {
      "name": "datastructuresexercises.ipynb",
      "provenance": [],
      "authorship_tag": "ABX9TyM+wYNx6psRAEqjyFsNdUGR",
      "include_colab_link": true
    },
    "kernelspec": {
      "name": "python3",
      "display_name": "Python 3"
    },
    "language_info": {
      "name": "python"
    }
  },
  "cells": [
    {
      "cell_type": "markdown",
      "metadata": {
        "id": "view-in-github",
        "colab_type": "text"
      },
      "source": [
        "<a href=\"https://colab.research.google.com/github/IdaSharonJ/Simplepython-codes/blob/main/datastructures%20exercises.ipynb\" target=\"_parent\"><img src=\"https://colab.research.google.com/assets/colab-badge.svg\" alt=\"Open In Colab\"/></a>"
      ]
    },
    {
      "cell_type": "markdown",
      "source": [
        "**LISTS**\n",
        "\n",
        "Lists are used to store multiple items in a single variable. They are created using square brackets."
      ],
      "metadata": {
        "id": "CMIyfN5Jnqpo"
      }
    },
    {
      "cell_type": "code",
      "source": [
        "# example\n",
        "l = [34,\"Hakuna matata\",65,\"apple\",24,75,\"hi\"]\n",
        "l"
      ],
      "metadata": {
        "colab": {
          "base_uri": "https://localhost:8080/"
        },
        "id": "3205xh4koAxa",
        "outputId": "d2b62ea9-3b8c-444d-d44c-40c8437fa571"
      },
      "execution_count": 14,
      "outputs": [
        {
          "output_type": "execute_result",
          "data": {
            "text/plain": [
              "[34, 'Hakuna matata', 65, 'apple', 24, 75, 'hi']"
            ]
          },
          "metadata": {},
          "execution_count": 14
        }
      ]
    },
    {
      "cell_type": "code",
      "source": [
        "# let us create a list of numbers to execute list methods\n",
        "num = [23,54,65,90,17,86,59,34,82,76]\n",
        "num"
      ],
      "metadata": {
        "colab": {
          "base_uri": "https://localhost:8080/"
        },
        "id": "Dqdigs8YoeQo",
        "outputId": "27e0c7d5-cd7a-498b-a8b0-10624ef72023"
      },
      "execution_count": 15,
      "outputs": [
        {
          "output_type": "execute_result",
          "data": {
            "text/plain": [
              "[23, 54, 65, 90, 17, 86, 59, 34, 82, 76]"
            ]
          },
          "metadata": {},
          "execution_count": 15
        }
      ]
    },
    {
      "cell_type": "code",
      "source": [
        "dir (num)"
      ],
      "metadata": {
        "colab": {
          "base_uri": "https://localhost:8080/"
        },
        "id": "t_0gKAboo3A9",
        "outputId": "3e561252-4370-4b3c-a80b-da7dcd9766b0"
      },
      "execution_count": 16,
      "outputs": [
        {
          "output_type": "execute_result",
          "data": {
            "text/plain": [
              "['__add__',\n",
              " '__class__',\n",
              " '__contains__',\n",
              " '__delattr__',\n",
              " '__delitem__',\n",
              " '__dir__',\n",
              " '__doc__',\n",
              " '__eq__',\n",
              " '__format__',\n",
              " '__ge__',\n",
              " '__getattribute__',\n",
              " '__getitem__',\n",
              " '__gt__',\n",
              " '__hash__',\n",
              " '__iadd__',\n",
              " '__imul__',\n",
              " '__init__',\n",
              " '__init_subclass__',\n",
              " '__iter__',\n",
              " '__le__',\n",
              " '__len__',\n",
              " '__lt__',\n",
              " '__mul__',\n",
              " '__ne__',\n",
              " '__new__',\n",
              " '__reduce__',\n",
              " '__reduce_ex__',\n",
              " '__repr__',\n",
              " '__reversed__',\n",
              " '__rmul__',\n",
              " '__setattr__',\n",
              " '__setitem__',\n",
              " '__sizeof__',\n",
              " '__str__',\n",
              " '__subclasshook__',\n",
              " 'append',\n",
              " 'clear',\n",
              " 'copy',\n",
              " 'count',\n",
              " 'extend',\n",
              " 'index',\n",
              " 'insert',\n",
              " 'pop',\n",
              " 'remove',\n",
              " 'reverse',\n",
              " 'sort']"
            ]
          },
          "metadata": {},
          "execution_count": 16
        }
      ]
    },
    {
      "cell_type": "markdown",
      "source": [
        "**APPEND**\n",
        "\n",
        "This function adds and element to the end of the list."
      ],
      "metadata": {
        "id": "KtrZsA91pdR4"
      }
    },
    {
      "cell_type": "code",
      "source": [
        "num.append (83)\n",
        "num"
      ],
      "metadata": {
        "colab": {
          "base_uri": "https://localhost:8080/"
        },
        "id": "euwFPBp4ppxY",
        "outputId": "5e435ad0-6af2-4c92-c2ba-2132613f98af"
      },
      "execution_count": 18,
      "outputs": [
        {
          "output_type": "execute_result",
          "data": {
            "text/plain": [
              "[23, 54, 65, 90, 17, 86, 59, 34, 82, 76, 83]"
            ]
          },
          "metadata": {},
          "execution_count": 18
        }
      ]
    },
    {
      "cell_type": "markdown",
      "source": [
        "**CLEAR**\n",
        "\n",
        "This function removes all the elements from the list."
      ],
      "metadata": {
        "id": "H9uF-Obqq-fZ"
      }
    },
    {
      "cell_type": "code",
      "source": [
        "num.clear ()\n",
        "num"
      ],
      "metadata": {
        "colab": {
          "base_uri": "https://localhost:8080/"
        },
        "id": "d0jYnAAbrKEp",
        "outputId": "ba6706f5-60ee-447e-c38a-b6c8762149a9"
      },
      "execution_count": 19,
      "outputs": [
        {
          "output_type": "execute_result",
          "data": {
            "text/plain": [
              "[]"
            ]
          },
          "metadata": {},
          "execution_count": 19
        }
      ]
    },
    {
      "cell_type": "code",
      "source": [
        "# since we cleared the previous list, create the list again.\n",
        "num = [23, 54, 65, 90, 54, 86, 59, 54, 82, 65, 83]\n",
        "num"
      ],
      "metadata": {
        "colab": {
          "base_uri": "https://localhost:8080/"
        },
        "id": "60C71x9crXtc",
        "outputId": "2eeff147-f060-4517-c29e-0fc05aa80bc1"
      },
      "execution_count": 24,
      "outputs": [
        {
          "output_type": "execute_result",
          "data": {
            "text/plain": [
              "[23, 54, 65, 90, 54, 86, 59, 54, 82, 65, 83]"
            ]
          },
          "metadata": {},
          "execution_count": 24
        }
      ]
    },
    {
      "cell_type": "markdown",
      "source": [
        "**COPY**\n",
        "\n",
        "This function returns the copy of the list."
      ],
      "metadata": {
        "id": "UWbUcjz6rmkf"
      }
    },
    {
      "cell_type": "code",
      "source": [
        "num.copy\n",
        "num"
      ],
      "metadata": {
        "colab": {
          "base_uri": "https://localhost:8080/"
        },
        "id": "WSqBGL1RrtA-",
        "outputId": "3546295c-6c96-4fd0-b6f5-2a672363076d"
      },
      "execution_count": 26,
      "outputs": [
        {
          "output_type": "execute_result",
          "data": {
            "text/plain": [
              "[23, 54, 65, 90, 54, 86, 59, 54, 82, 65, 83]"
            ]
          },
          "metadata": {},
          "execution_count": 26
        }
      ]
    },
    {
      "cell_type": "markdown",
      "source": [
        "**COUNT**\n",
        "\n",
        "This function returns the number of any specific element in the list."
      ],
      "metadata": {
        "id": "LpNWrWIprxBL"
      }
    },
    {
      "cell_type": "code",
      "source": [
        "#This will tell us how many times 54 is repeated in the list.\n",
        "num.count (54)"
      ],
      "metadata": {
        "colab": {
          "base_uri": "https://localhost:8080/"
        },
        "id": "DPzOuw7kr5Jl",
        "outputId": "ed7816ed-8790-4e22-a93c-064b01dc27b1"
      },
      "execution_count": 27,
      "outputs": [
        {
          "output_type": "execute_result",
          "data": {
            "text/plain": [
              "3"
            ]
          },
          "metadata": {},
          "execution_count": 27
        }
      ]
    },
    {
      "cell_type": "markdown",
      "source": [
        "**EXTEND**\n",
        "\n",
        "This function adds elements of a list to the end of the another list.\n",
        "The count of elements in both lists must be same. If not, while executing the function, the elemnts of the smaller list will be copied and displayed to match the count of elements of the other list.\n"
      ],
      "metadata": {
        "id": "EvbUr3p3sagn"
      }
    },
    {
      "cell_type": "code",
      "source": [
        "# To execute this function, let us create another list\n",
        "char = [\"A\",\"B\",\"C\",\"D\",\"E\"]\n",
        "num.extend(char)\n",
        "print(num)"
      ],
      "metadata": {
        "colab": {
          "base_uri": "https://localhost:8080/"
        },
        "id": "ybl2Ps0VsnsP",
        "outputId": "15df09af-4ae7-45de-bfa3-414fd6d19177"
      },
      "execution_count": 32,
      "outputs": [
        {
          "output_type": "stream",
          "name": "stdout",
          "text": [
            "[23, 54, 65, 90, 54, 86, 59, 54, 82, 65, 83, 'A', 'B', 'C', 'D', 'E', 'A', 'B', 'C', 'D', 'E']\n"
          ]
        }
      ]
    },
    {
      "cell_type": "markdown",
      "source": [
        "**INDEX** \n",
        " \n",
        "This function returns the index of the first value (ie.) It gives the position of the element in the list."
      ],
      "metadata": {
        "id": "gPBoyfAGt52B"
      }
    },
    {
      "cell_type": "code",
      "source": [
        "num.index(86)"
      ],
      "metadata": {
        "colab": {
          "base_uri": "https://localhost:8080/"
        },
        "id": "wLvBTgxTuAwq",
        "outputId": "394c1e33-a6a2-4a2f-883d-d4564d8e1a22"
      },
      "execution_count": 33,
      "outputs": [
        {
          "output_type": "execute_result",
          "data": {
            "text/plain": [
              "5"
            ]
          },
          "metadata": {},
          "execution_count": 33
        }
      ]
    },
    {
      "cell_type": "markdown",
      "source": [
        "**INSERT**\n",
        "\n",
        "This function adds an element in a specific position."
      ],
      "metadata": {
        "id": "IjU3AJxFuUy8"
      }
    },
    {
      "cell_type": "code",
      "source": [
        "# To execute this let create the numbers list again.\n",
        "num = [23, 54, 65, 90, 54, 86, 59, 54, 82, 65, 83]\n",
        "num"
      ],
      "metadata": {
        "colab": {
          "base_uri": "https://localhost:8080/"
        },
        "id": "PpFc4slQucpg",
        "outputId": "e1bd03a7-8761-4c6c-f34d-f1bec13ef840"
      },
      "execution_count": 41,
      "outputs": [
        {
          "output_type": "execute_result",
          "data": {
            "text/plain": [
              "[23, 54, 65, 90, 54, 86, 59, 54, 82, 65, 83]"
            ]
          },
          "metadata": {},
          "execution_count": 41
        }
      ]
    },
    {
      "cell_type": "code",
      "source": [
        "num.insert(2,\"pie\")\n",
        "num"
      ],
      "metadata": {
        "colab": {
          "base_uri": "https://localhost:8080/"
        },
        "id": "_JeRhDFmvBoh",
        "outputId": "28adc8b0-932c-45e9-d94d-820aab3f0ccd"
      },
      "execution_count": 37,
      "outputs": [
        {
          "output_type": "execute_result",
          "data": {
            "text/plain": [
              "[23, 54, 'pie', 65, 90, 54, 86, 59, 54, 82, 65, 83]"
            ]
          },
          "metadata": {},
          "execution_count": 37
        }
      ]
    },
    {
      "cell_type": "markdown",
      "source": [
        "**POP**\n",
        "\n",
        "This function removes an element from the specified position."
      ],
      "metadata": {
        "id": "jZf7iW3GvGtE"
      }
    },
    {
      "cell_type": "code",
      "source": [
        "# Let us remove the \"pie\" element which we inserted before.\n",
        "num.pop(2)\n",
        "num"
      ],
      "metadata": {
        "colab": {
          "base_uri": "https://localhost:8080/"
        },
        "id": "NOxVmgr9vSt0",
        "outputId": "18c52a74-5019-46cd-dfb7-2d2b89830877"
      },
      "execution_count": 38,
      "outputs": [
        {
          "output_type": "execute_result",
          "data": {
            "text/plain": [
              "[23, 54, 65, 90, 54, 86, 59, 54, 82, 65, 83]"
            ]
          },
          "metadata": {},
          "execution_count": 38
        }
      ]
    },
    {
      "cell_type": "markdown",
      "source": [
        "**REMOVE**\n",
        "\n",
        "This function removes the specified element from the list. We need not give the position of the element."
      ],
      "metadata": {
        "id": "Px8uMjBjvdnG"
      }
    },
    {
      "cell_type": "code",
      "source": [
        "num.remove(65)\n",
        "num"
      ],
      "metadata": {
        "colab": {
          "base_uri": "https://localhost:8080/"
        },
        "id": "jNZSaLxDvxps",
        "outputId": "9a523e4a-780f-49de-9e0e-a38e7e5b5ed2"
      },
      "execution_count": 42,
      "outputs": [
        {
          "output_type": "execute_result",
          "data": {
            "text/plain": [
              "[23, 54, 90, 54, 86, 59, 54, 82, 65, 83]"
            ]
          },
          "metadata": {},
          "execution_count": 42
        }
      ]
    },
    {
      "cell_type": "markdown",
      "source": [
        "**REVERSE**\n",
        "\n",
        "This function reverses the order of the list."
      ],
      "metadata": {
        "id": "g5Sc2iVuv9lB"
      }
    },
    {
      "cell_type": "code",
      "source": [
        "# Let us create an easy list to execute this function\n",
        "numbers = [1,2,3,4,5,6,7]\n",
        "numbers"
      ],
      "metadata": {
        "colab": {
          "base_uri": "https://localhost:8080/"
        },
        "id": "g8cbO0xewGu6",
        "outputId": "cafbbcb1-fdc8-4865-b7a2-9ed5ad3291ab"
      },
      "execution_count": 46,
      "outputs": [
        {
          "output_type": "execute_result",
          "data": {
            "text/plain": [
              "[1, 2, 3, 4, 5, 6, 7]"
            ]
          },
          "metadata": {},
          "execution_count": 46
        }
      ]
    },
    {
      "cell_type": "code",
      "source": [
        "numbers.reverse()\n",
        "print (numbers)"
      ],
      "metadata": {
        "colab": {
          "base_uri": "https://localhost:8080/"
        },
        "id": "QkrsRFFcwavn",
        "outputId": "aed59b17-b0ff-4a37-df92-a18630a68f52"
      },
      "execution_count": 48,
      "outputs": [
        {
          "output_type": "stream",
          "name": "stdout",
          "text": [
            "[7, 6, 5, 4, 3, 2, 1]\n"
          ]
        }
      ]
    },
    {
      "cell_type": "markdown",
      "source": [
        "**SORT**\n",
        "\n",
        "This function sorts the order of the list. By default it gives an ascending order."
      ],
      "metadata": {
        "id": "kqKhU2qEwjg_"
      }
    },
    {
      "cell_type": "code",
      "source": [
        "num.sort()\n",
        "num"
      ],
      "metadata": {
        "colab": {
          "base_uri": "https://localhost:8080/"
        },
        "id": "ZQ2XQuu8wvds",
        "outputId": "d2dd0307-c27d-4309-9add-de3b66071008"
      },
      "execution_count": 49,
      "outputs": [
        {
          "output_type": "execute_result",
          "data": {
            "text/plain": [
              "[23, 54, 54, 54, 59, 65, 82, 83, 86, 90]"
            ]
          },
          "metadata": {},
          "execution_count": 49
        }
      ]
    }
  ]
}